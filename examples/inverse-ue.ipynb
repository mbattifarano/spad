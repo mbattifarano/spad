{
 "cells": [
  {
   "cell_type": "code",
   "execution_count": 1,
   "metadata": {
    "collapsed": true
   },
   "outputs": [],
   "source": [
    "import numpy as np\n",
    "import tensorflow as tf\n",
    "import itertools as it"
   ]
  },
  {
   "cell_type": "code",
   "execution_count": 2,
   "metadata": {
    "collapsed": false,
    "pycharm": {
     "name": "#%%\n"
    }
   },
   "outputs": [],
   "source": [
    "n_links = 5\n",
    "n_nodes = 4\n",
    "\n",
    "adjacencies = [\n",
    "\t[0, 1],\n",
    "\t[0, 2],\n",
    "\t[1, 2],\n",
    "\t[1, 3],\n",
    "\t[2, 3]\n",
    "]\n",
    "\n",
    "triplist = [[0, 3]]\n",
    "d_rs = [6.0]\n",
    "\n",
    "paths = [ \n",
    "\t[0, 3],\n",
    "\t[0, 2, 4],\n",
    "\t[1, 4]\n",
    "]\n",
    "\n",
    "linkpath = np.zeros((n_links, 3))\n",
    "for i, links in enumerate(paths):\n",
    "\tfor lid in links:\n",
    "\t\tlinkpath[lid, i] = 1.0\t"
   ]
  },
  {
   "cell_type": "code",
   "execution_count": 3,
   "metadata": {
    "collapsed": false,
    "pycharm": {
     "name": "#%%\n"
    }
   },
   "outputs": [],
   "source": [
    "m_true = np.array([10., 1., 1., 1., 10.])\n",
    "m_init = np.array([9.0, 2.0, 2.0, 2.0, 9.0])\n",
    "b_true = np.array([0., 50., 10., 50., 0.])\n",
    "b_init = b_true\n",
    "x = tf.constant(np.array([4., 2., 2., 2., 4.]), dtype=tf.float64)\n",
    "X = tf.expand_dims(x, 0)\n",
    "rng = tf.random.Generator.from_seed(1234)\n",
    "n_samples = 100\n",
    "data = x + rng.normal((n_samples, n_links), mean=0, stddev=0.01, dtype=tf.float64)\n",
    "#true_cost = np.array([40, 52, 12, 52, 40], dtype=np.float64)\n",
    "true_cost = m_true * x + b_true\n",
    "q_true = np.array([6.0])\n",
    "q_init = np.array([5.0])\n",
    "\n",
    "optimizer = tf.keras.optimizers.Adam()"
   ]
  },
  {
   "cell_type": "code",
   "execution_count": 4,
   "metadata": {
    "collapsed": false,
    "pycharm": {
     "name": "#%%\n"
    }
   },
   "outputs": [],
   "source": [
    "class StochasticNetworkLoading(tf.keras.Model):\n",
    "\tdef __init__(self, n_nodes, triplist, linklist, m_init, b_init, q_init, *args, **kwargs):\n",
    "\t\tsuper().__init__(*args, **kwargs)\n",
    "\t\tself._m = tf.Variable(np.log(m_init), name=\"m\", dtype=self.dtype)\n",
    "\t\tself.b = tf.Variable(b_init, name=\"b\", trainable=False, dtype=self.dtype)\n",
    "\t\tself._q = tf.Variable(np.sqrt(q_init), name=\"q\", dtype=self.dtype)\n",
    "\t\tself.linklist = linklist\n",
    "\t\tself.n_nodes = n_nodes\n",
    "\t\tself.triplist = triplist\n",
    "\t\tself.I = np.identity(self.n_nodes)\n",
    "\n",
    "\t@property\n",
    "\tdef m(self):\n",
    "\t\treturn tf.exp(self._m)\n",
    "\n",
    "\t@property\n",
    "\tdef q(self):\n",
    "\t\treturn self._q ** 2\n",
    "\n",
    "\tdef link_cost(self, x):\n",
    "\t\treturn tf.multiply(self.m, x) + self.b\n",
    "\n",
    "\tdef link_logits(self, x):\n",
    "\t\treturn tf.exp(-self.link_cost(x))\n",
    "\n",
    "\tdef transition_logits(self, x):\n",
    "\t\tn_samples = len(x)\n",
    "\t\tindices = [\n",
    "\t\t\tlist(it.chain([i], adj))\n",
    "\t\t\tfor i, adj in it.product(range(n_samples), self.linklist)\n",
    "\t\t]\n",
    "\t\treturn tf.SparseTensor(\n",
    "\t\t\tindices=indices,\n",
    "\t\t\tvalues=tf.reshape(self.link_logits(x), [-1]),\n",
    "\t\t\tdense_shape=(n_samples, self.n_nodes, self.n_nodes)\n",
    "\t\t)\n",
    "\n",
    "\t@property\n",
    "\tdef Q(self):\n",
    "\t\treturn tf.SparseTensor(\n",
    "\t\t\tindices=self.triplist, \n",
    "\t\t\tvalues=self.q, \n",
    "\t\t\tdense_shape=(n_nodes, n_nodes)\n",
    "\t\t)\n",
    "\n",
    "\tdef link_weights(self, L):\n",
    "\t\t_L = tf.sparse.to_dense(L)\n",
    "\t\tQ = tf.sparse.to_dense(self.Q)\n",
    "\t\tV = tf.linalg.inv(self.I - _L)\n",
    "\t\t_V = 1.0 / tf.where(tf.equal(V, 0.0), 1.0, V)\n",
    "\t\treturn tf.einsum(\"iru, ivs, irs, rs -> iuv\", V, V, _V, Q)\n",
    "\n",
    "\tdef normalizer(self, L):\n",
    "\t\t# TODO support multiple OD: tf.einsum(\"iuv, iru, ivs, irs, rs -> iuv\", L, V, V, 1.0/V, Q)\n",
    "\t\tV = tf.linalg.inv(self.I - tf.sparse.to_dense(L))\n",
    "\t\tV_rs = 1.0 / V[:, self.r, self.s]\n",
    "\t\tV_r = V[:, self.r, :]\n",
    "\t\tV_s = V[:, :, self.s]\n",
    "\t\treturn tf.einsum(\"iu, iv, i -> iuv\", V_r, V_s, V_rs)\n",
    "\n",
    "\tdef link_assignment(self, x):\n",
    "\t\tL = self.transition_logits(x)\n",
    "\t\tW = self.link_weights(L)\n",
    "\t\tH = L * W\n",
    "\t\treturn tf.reshape(H.values, [len(x), -1])\n",
    "\n",
    "\tdef call(self, x):\n",
    "\t\tx = tf.cast(x, self.dtype)\n",
    "\t\treturn self.link_assignment(x)"
   ]
  },
  {
   "cell_type": "code",
   "execution_count": 9,
   "metadata": {
    "collapsed": false,
    "pycharm": {
     "name": "#%%\n"
    }
   },
   "outputs": [
    {
     "name": "stdout",
     "output_type": "stream",
     "text": [
      "[<tf.Variable 'm:0' shape=(5,) dtype=float64, numpy=array([2.19722458, 0.69314718, 0.69314718, 0.69314718, 2.19722458])>, <tf.Variable 'q:0' shape=(1,) dtype=float64, numpy=array([2.23606798])>]\n",
      "q = [5.], m  = [9. 2. 2. 2. 9.]\n"
     ]
    }
   ],
   "source": [
    "model = StochasticNetworkLoading(n_nodes, triplist, adjacencies, m_init, b_init, q_init, dtype=tf.float64)\n",
    "print(model.trainable_variables)\n",
    "print(f\"q = {model.q}, m  = {model.m}\")"
   ]
  },
  {
   "cell_type": "code",
   "execution_count": 6,
   "metadata": {},
   "outputs": [],
   "source": [
    "true_model = StochasticNetworkLoading(n_nodes, triplist, adjacencies, m_true, b_true, q_true, dtype=tf.float64)"
   ]
  },
  {
   "cell_type": "code",
   "execution_count": 7,
   "metadata": {},
   "outputs": [
    {
     "name": "stdout",
     "output_type": "stream",
     "text": [
      "[[4. 2. 2. 2. 4.]] =?= [[4. 2. 2. 2. 4.]]\n",
      "Q = [[0. 0. 0. 6.]\n",
      " [0. 0. 0. 0.]\n",
      " [0. 0. 0. 0.]\n",
      " [0. 0. 0. 0.]]\n",
      "link cost = [[40. 52. 12. 52. 40.]]\n",
      "link logits = [[4.24835426e-18 2.61027907e-23 6.14421235e-06 2.61027907e-23\n",
      "  4.24835426e-18]]\n",
      "L = [[[0.00000000e+00 4.24835426e-18 2.61027907e-23 0.00000000e+00]\n",
      "  [0.00000000e+00 0.00000000e+00 6.14421235e-06 2.61027907e-23]\n",
      "  [0.00000000e+00 0.00000000e+00 0.00000000e+00 4.24835426e-18]\n",
      "  [0.00000000e+00 0.00000000e+00 0.00000000e+00 0.00000000e+00]]]\n",
      "W = [[[6.00000000e+00 9.41541067e+17 7.66201600e+22 1.80352568e+40]\n",
      "  [2.54901255e-17 4.00000000e+00 3.25509583e+05 7.66201600e+22]\n",
      "  [3.13233488e-22 4.91536988e-05 4.00000000e+00 9.41541067e+17]\n",
      "  [1.99609023e-39 3.13233488e-22 2.54901255e-17 6.00000000e+00]]]\n"
     ]
    }
   ],
   "source": [
    "print(f\"{X} =?= {true_model(X)}\")\n",
    "print(f\"Q = {tf.sparse.to_dense(true_model.Q)}\")\n",
    "print(f\"link cost = {true_model.link_cost(X)}\")\n",
    "print(f\"link logits = {true_model.link_logits(X)}\")\n",
    "print(f\"L = {tf.sparse.to_dense(true_model.transition_logits(X))}\")\n",
    "print(f\"W = {true_model.link_weights(true_model.transition_logits(X))}\")"
   ]
  },
  {
   "cell_type": "code",
   "execution_count": 10,
   "metadata": {
    "collapsed": false,
    "pycharm": {
     "name": "#%%\n"
    }
   },
   "outputs": [
    {
     "name": "stdout",
     "output_type": "stream",
     "text": [
      "0: loss=3.39, demand=[4.99552887], cost coefficients=[9.0090045  1.99800101 2.002001   1.99800101 9.0090045 ], link flow=[4.91168559 0.08831441 4.82324302 0.08844257 4.91155743], link cost=[36.03407105 53.99690421 14.0036827  53.99685672 36.03412713]\n",
      "1000: loss=0.0159, demand=[5.9720789], cost coefficients=[9.82010924 1.83065247 2.18663451 1.8298825  9.8192754 ], link flow=[3.98744023 1.98454084 2.00506498 1.98237525 3.98960582], link cost=[39.27831472 53.66213157 14.37292029 53.66054779 39.27504065]\n",
      "2000: loss=0.01583, demand=[5.9839373], cost coefficients=[9.80969055 1.81828137 2.19662051 1.81521067 9.80770763], link flow=[3.99338036 1.99055689 2.0049874  1.98839296 3.99554428], link cost=[39.23664221 53.63738378 14.39289068 53.63119784 39.22877203]\n",
      "3000: loss=0.01576, demand=[5.98401327], cost coefficients=[9.79002248 1.79677956 2.21446965 1.78973814 9.78605491], link flow=[3.99340843 1.99060474 2.0049623  1.98844613 3.99556704], link cost=[39.1579742  53.59437044 14.42858613 53.58024189 39.14216568]\n",
      "4000: loss=0.01564, demand=[5.98413859], cost coefficients=[9.75712291 1.7617454  2.24525951 1.74840641 9.7500077 ], link flow=[3.99345443 1.99068401 2.00492045 1.98853398 3.99560446], link cost=[39.02638303 53.52428631 14.49016093 53.49756074 38.99798439]\n",
      "5000: loss=0.01545, demand=[5.9843389], cost coefficients=[9.70341237 1.7070541  2.29803015 1.68430838 9.6915956 ], link flow=[3.99352712 1.99081153 2.00485241 1.98867471 3.99566394], link cost=[38.81155246 53.41487903 14.5956938  53.36933728 38.76434826]\n",
      "6000: loss=0.01516, demand=[5.98465125], cost coefficients=[9.6168688  1.625379   2.38950884 1.58953857 9.59850745], link flow=[3.99363834 1.99101252 2.00474323 1.98889511 3.99575575], link cost=[38.4653969  53.25149194 14.77863659 53.17975712 38.3920152 ]\n",
      "7000: loss=0.01472, demand=[5.98512807], cost coefficients=[9.47817264 1.51034554 2.55197723 1.45795647 9.45154108], link flow=[3.99380279 1.9913247  2.0045684  1.98923439 3.9958931 ], link cost=[37.91064221 53.02137307 15.10354746 52.91653663 37.80418058]\n",
      "8000: loss=0.01415, demand=[5.98579465], cost coefficients=[9.27992383 1.39118319 2.82950348 1.32137818 9.24458941], link flow=[3.99400038 1.99179356 2.00426477 1.98973561 3.99605833], link cost=[37.11768982 52.78299457 15.65855569 52.64332161 36.97641731]\n",
      "9000: loss=0.01346, demand=[5.98664534], cost coefficients=[9.00339655 1.28608431 3.27774355 1.19898337 8.95941483], link flow=[3.99422945 1.99241506 2.00384222 1.99038723 3.99625728], link cost=[36.01164046 52.57274935 16.55496434 52.39847965 35.83577885]\n",
      "10000: loss=0.01275, demand=[5.98746269], cost coefficients=[8.64161318 1.19837644 3.91331794 1.09385865 8.5895775 ], link flow=[3.98535242 2.00208946 2.00329946 1.98205296 4.00538892], link cost=[34.56458519 52.39729401 17.82601175 52.18818524 34.35650717]\n",
      "10001 [FINAL]: loss=0.01275, demand=[5.98746269],cost coefficients=[8.64161318 1.19837644 3.91331794 1.09385865 8.5895775 ], link flow=[3.98535242 2.00208946 2.00329946 1.98205296 4.00538892], link cost=[34.56458519 52.39729401 17.82601175 52.18818524 34.35650717]\n"
     ]
    }
   ],
   "source": [
    "loss = tf.reduce_mean((data - model(data))**2)\n",
    "i = 0\n",
    "while loss > 1e-8 and i <= 10000:\n",
    "\twith tf.GradientTape() as tape:\n",
    "\t\tx_hat = model(data)\n",
    "\t\tloss = (\n",
    "\t\t\ttf.reduce_mean((data - x_hat)**2)\n",
    "\t\t)\n",
    "\tgrads = tape.gradient(loss, model.trainable_variables)\n",
    "\toptimizer.apply_gradients(zip(grads, model.trainable_variables))\n",
    "\tif i % 1000 == 0:\n",
    "\t\tprint(f\"{i}: loss={loss.numpy():0.4g}, demand={model.q}, cost coefficients={model.m}, link flow={x_hat.numpy().mean(0)}, link cost={model.link_cost(data).numpy().mean(0)}\")\n",
    "\ti += 1\n",
    "print(f\"{i} [FINAL]: loss={loss.numpy():0.4g}, demand={model.q},cost coefficients={model.m}, link flow={x_hat.numpy().mean(0)}, link cost={model.link_cost(data).numpy().mean(0)}\")"
   ]
  },
  {
   "cell_type": "code",
   "execution_count": 12,
   "metadata": {
    "collapsed": false,
    "pycharm": {
     "name": "#%%\n"
    }
   },
   "outputs": [
    {
     "name": "stdout",
     "output_type": "stream",
     "text": [
      "learned flow = [[3.99467367 1.99278903 2.00010457 1.9945691  3.9928936 ]]; true flow = [[4. 2. 2. 2. 4.]]\n",
      "Learned cost = [34.56645273 52.39675289 17.82663587 52.18771731 34.35831   ]; true cost = [40. 52. 12. 52. 40.]\n",
      "learned path cost = [86.75417004 86.75139861 86.75506289]; true path cost = [92. 92. 92.]\n",
      "m = [8.64161318 1.19837644 3.91331794 1.09385865 8.5895775 ], (true m = [10.  1.  1.  1. 10.])\n",
      "b = <tf.Variable 'b:0' shape=(5,) dtype=float64, numpy=array([ 0., 50., 10., 50.,  0.])>\n",
      "OD demand = [5.98746269]\n"
     ]
    }
   ],
   "source": [
    "print(f\"learned flow = {model(tf.expand_dims(x, 0)).numpy()}; true flow = {true_model(tf.expand_dims(x, 0)).numpy()}\")\n",
    "print(f\"Learned cost = {model.link_cost(x).numpy()}; true cost = {true_model.link_cost(x).numpy()}\")\n",
    "print(f\"learned path cost = {linkpath.T @  model.link_cost(x).numpy()}; true path cost = {linkpath.T @ true_model.link_cost(x).numpy()}\")\n",
    "print(f\"m = {model.m}, (true m = {m_true})\")\n",
    "print(f\"b = {model.b}\")\n",
    "print(f\"OD demand = {model.q}\")"
   ]
  },
  {
   "cell_type": "code",
   "execution_count": null,
   "metadata": {},
   "outputs": [],
   "source": []
  }
 ],
 "metadata": {
  "kernelspec": {
   "display_name": "Python 3",
   "language": "python",
   "name": "python3"
  },
  "language_info": {
   "codemirror_mode": {
    "name": "ipython",
    "version": 3
   },
   "file_extension": ".py",
   "mimetype": "text/x-python",
   "name": "python",
   "nbconvert_exporter": "python",
   "pygments_lexer": "ipython3",
   "version": "3.8.10"
  }
 },
 "nbformat": 4,
 "nbformat_minor": 0
}
