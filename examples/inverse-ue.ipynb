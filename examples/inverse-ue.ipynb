{
 "cells": [
  {
   "cell_type": "code",
   "execution_count": 1,
   "metadata": {
    "collapsed": true
   },
   "outputs": [],
   "source": [
    "import numpy as np\n",
    "import tensorflow as tf"
   ]
  },
  {
   "cell_type": "code",
   "execution_count": 2,
   "outputs": [],
   "source": [
    "n_links = 5\n",
    "n_nodes = 4\n",
    "\n",
    "adjacencies = [\n",
    "\t[0, 1],\n",
    "\t[0, 2],\n",
    "\t[1, 2],\n",
    "\t[1, 3],\n",
    "\t[2, 3]\n",
    "]\n",
    "\n",
    "r, s = 0, 3\n",
    "d_rs = 6.0"
   ],
   "metadata": {
    "collapsed": false,
    "pycharm": {
     "name": "#%%\n"
    }
   }
  },
  {
   "cell_type": "code",
   "execution_count": 15,
   "outputs": [],
   "source": [
    "m_true = np.array([10., 1., 1., 1., 10.])\n",
    "m = tf.Variable(np.array([9.0, 2.0, 2.0, 2.0, 9.0]), name=\"m\", trainable=True, dtype=tf.float64)\n",
    "b_true = np.array([0., 50., 10., 50., 0.])\n",
    "b = tf.Variable(b_true, name=\"b\", trainable=False, dtype=tf.float64)\n",
    "x = tf.constant(np.array([4., 2., 2., 2., 4.]), dtype=tf.float64)\n",
    "#true_cost = np.array([40, 52, 12, 52, 40], dtype=np.float64)\n",
    "true_cost = m_true * x + b_true\n",
    "\n",
    "optimizer = tf.keras.optimizers.Adam()"
   ],
   "metadata": {
    "collapsed": false,
    "pycharm": {
     "name": "#%%\n"
    }
   }
  },
  {
   "cell_type": "code",
   "execution_count": 16,
   "outputs": [],
   "source": [
    "class StochasticNetworkLoading(tf.keras.Model):\n",
    "\tdef __init__(self, m, b, d, r, s, adjacencies, n_nodes, *args, **kwargs):\n",
    "\t\tsuper().__init__(*args, **kwargs)\n",
    "\t\tself.m = m\n",
    "\t\tself.b = b\n",
    "\t\tself.d = d\n",
    "\t\tself.adjacencies = adjacencies\n",
    "\t\tself.n_nodes = n_nodes\n",
    "\t\tself.r = r\n",
    "\t\tself.s = s\n",
    "\t\tself.I = np.identity(self.n_nodes)\n",
    "\n",
    "\tdef link_cost(self, x):\n",
    "\t\treturn tf.multiply(self.m, x) + self.b\n",
    "\n",
    "\tdef link_logits(self, x):\n",
    "\t\treturn tf.exp(-self.link_cost(x))\n",
    "\n",
    "\tdef transition_logits(self, x):\n",
    "\t\treturn tf.sparse.SparseTensor(\n",
    "\t\t\tindices=self.adjacencies,\n",
    "\t\t\tvalues=self.link_logits(x),\n",
    "\t\t\tdense_shape=(self.n_nodes, self.n_nodes)\n",
    "\t\t)\n",
    "\n",
    "\tdef normalizer(self, L):\n",
    "\t\tV = tf.linalg.inv(self.I - tf.sparse.to_dense(L))\n",
    "\t\tV_rs = V[self.r, self.s]\n",
    "\t\tV_r = V[self.r, :]\n",
    "\t\tV_s = V[:, self.s]\n",
    "\t\treturn tf.tensordot(V_r, V_s, axes=0) / V_rs\n",
    "\n",
    "\tdef link_probabilities(self, x):\n",
    "\t\tL = self.transition_logits(x)\n",
    "\t\tW = self.normalizer(L)\n",
    "\t\tH = L * W\n",
    "\t\treturn H.values\n",
    "\n",
    "\tdef call(self, x):\n",
    "\t\tx = tf.cast(x, tf.float64)\n",
    "\t\tp = self.link_probabilities(x)\n",
    "\t\treturn self.d * p"
   ],
   "metadata": {
    "collapsed": false,
    "pycharm": {
     "name": "#%%\n"
    }
   }
  },
  {
   "cell_type": "code",
   "execution_count": 17,
   "outputs": [
    {
     "data": {
      "text/plain": "[<tf.Variable 'm:0' shape=(5,) dtype=float64, numpy=array([9., 2., 2., 2., 9.])>]"
     },
     "execution_count": 17,
     "metadata": {},
     "output_type": "execute_result"
    }
   ],
   "source": [
    "model = StochasticNetworkLoading(m, b, d_rs, r, s, adjacencies, n_nodes)\n",
    "model.trainable_variables"
   ],
   "metadata": {
    "collapsed": false,
    "pycharm": {
     "name": "#%%\n"
    }
   }
  },
  {
   "cell_type": "code",
   "execution_count": 19,
   "outputs": [
    {
     "name": "stdout",
     "output_type": "stream",
     "text": [
      "0 4.9307462025315374e-08 [4.00017555 1.99982445 2.0003511  1.99982445 4.00017555]\n",
      "100 1.7351900848237788e-09 [4.00003293 1.99996707 2.00006586 1.99996707 4.00003293]\n",
      "200 4.401089003982941e-11 [4.00000524 1.99999476 2.00001049 1.99999476 4.00000524]\n",
      "300 7.839510323892962e-13 [4.0000007 1.9999993 2.0000014 1.9999993 4.0000007]\n",
      "400 9.502714168668681e-15 [4.00000008 1.99999992 2.00000015 1.99999992 4.00000008]\n",
      "500 7.538301513354946e-17 [4.00000001 1.99999999 2.00000001 1.99999999 4.00000001]\n",
      "600 3.724202547475347e-19 [4. 2. 2. 2. 4.]\n",
      "700 1.073236552528793e-21 [4. 2. 2. 2. 4.]\n",
      "800 1.6356528365361054e-24 [4. 2. 2. 2. 4.]\n",
      "900 5.164879422469585e-27 [4. 2. 2. 2. 4.]\n"
     ]
    }
   ],
   "source": [
    "for i in range(1000):\n",
    "\twith tf.GradientTape() as tape:\n",
    "\t\tx_hat = model(x)\n",
    "\t\tloss = (\n",
    "\t\t\ttf.reduce_mean((x - x_hat)**2)\n",
    "\t\t)\n",
    "\tgrads = tape.gradient(loss, model.trainable_variables)\n",
    "\toptimizer.apply_gradients(zip(grads, model.trainable_variables))\n",
    "\tif i % 100 == 0:\n",
    "\t\tprint(i, loss.numpy(), x_hat.numpy())"
   ],
   "metadata": {
    "collapsed": false,
    "pycharm": {
     "name": "#%%\n"
    }
   }
  },
  {
   "cell_type": "code",
   "execution_count": 20,
   "outputs": [
    {
     "name": "stdout",
     "output_type": "stream",
     "text": [
      "Learned cost = [38.00000008 53.00000012 15.00000004 53.00000012 38.00000008]\n",
      "m = [9.50000002 1.50000006 2.50000002 1.50000006 9.50000002]\n",
      "b = [ 0. 50. 10. 50.  0.]\n"
     ]
    }
   ],
   "source": [
    "print(f\"Learned cost = {model.link_cost(x).numpy()}\")\n",
    "print(f\"m = {m.numpy()}\")\n",
    "print(f\"b = {b.numpy()}\")"
   ],
   "metadata": {
    "collapsed": false,
    "pycharm": {
     "name": "#%%\n"
    }
   }
  },
  {
   "cell_type": "code",
   "execution_count": 10,
   "outputs": [
    {
     "data": {
      "text/plain": "array([0.66666667, 0.33333333, 0.33333333, 0.33333333, 0.66666667])"
     },
     "execution_count": 10,
     "metadata": {},
     "output_type": "execute_result"
    }
   ],
   "source": [
    "true_model = StochasticNetworkLoading(m_true, b_true, d_rs, r, s, adjacencies, n_nodes)\n",
    "\n",
    "assert np.allclose(true_model.link_cost(x).numpy(), true_cost)\n",
    "assert np.allclose(true_model(x), x)\n",
    "assert np.allclose(true_model.link_probabilities(x),\n",
    "\t\t\t\t   model.link_probabilities(x))\n",
    "\n",
    "model.link_probabilities(x).numpy()"
   ],
   "metadata": {
    "collapsed": false,
    "pycharm": {
     "name": "#%%\n"
    }
   }
  },
  {
   "cell_type": "code",
   "execution_count": null,
   "outputs": [],
   "source": [],
   "metadata": {
    "collapsed": false,
    "pycharm": {
     "name": "#%%\n"
    }
   }
  }
 ],
 "metadata": {
  "kernelspec": {
   "display_name": "Python 3",
   "language": "python",
   "name": "python3"
  },
  "language_info": {
   "codemirror_mode": {
    "name": "ipython",
    "version": 2
   },
   "file_extension": ".py",
   "mimetype": "text/x-python",
   "name": "python",
   "nbconvert_exporter": "python",
   "pygments_lexer": "ipython2",
   "version": "2.7.6"
  }
 },
 "nbformat": 4,
 "nbformat_minor": 0
}