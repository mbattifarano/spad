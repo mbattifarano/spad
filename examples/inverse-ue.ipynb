{
 "cells": [
  {
   "cell_type": "code",
   "execution_count": 1,
   "metadata": {},
   "outputs": [
    {
     "name": "stderr",
     "output_type": "stream",
     "text": [
      "2022-05-09 20:40:26.461638: W tensorflow/stream_executor/platform/default/dso_loader.cc:64] Could not load dynamic library 'libcudart.so.11.0'; dlerror: libcudart.so.11.0: cannot open shared object file: No such file or directory; LD_LIBRARY_PATH: /usr/lib/libreoffice/program:/usr/local/lib:/usr/lib/libreoffice/program:/usr/local/lib:/usr/local/lib::/opt/gurobi950/linux64/lib:/lib/x86_64-linux-gnu:/home/matt/.mujoco/mjpro150/bin:/opt/gurobi950/linux64/lib:/lib/x86_64-linux-gnu:/home/matt/.mujoco/mjpro150/bin:/opt/gurobi950/linux64/lib:/lib/x86_64-linux-gnu:/home/matt/.mujoco/mjpro150/bin\n",
      "2022-05-09 20:40:26.461679: I tensorflow/stream_executor/cuda/cudart_stub.cc:29] Ignore above cudart dlerror if you do not have a GPU set up on your machine.\n"
     ]
    }
   ],
   "source": [
    "import numpy as np\n",
    "import tensorflow as tf\n",
    "import itertools as it"
   ]
  },
  {
   "cell_type": "code",
   "execution_count": 2,
   "metadata": {
    "pycharm": {
     "name": "#%%\n"
    }
   },
   "outputs": [],
   "source": [
    "n_links = 5\n",
    "n_nodes = 4\n",
    "\n",
    "adjacencies = [\n",
    "\t[0, 1],\n",
    "\t[0, 2],\n",
    "\t[1, 2],\n",
    "\t[1, 3],\n",
    "\t[2, 3]\n",
    "]\n",
    "\n",
    "triplist = [[0, 3]]\n",
    "d_rs = [6.0]\n",
    "\n",
    "paths = [ \n",
    "\t[0, 3],\n",
    "\t[0, 2, 4],\n",
    "\t[1, 4]\n",
    "]\n",
    "\n",
    "linkpath = np.zeros((n_links, 3))\n",
    "for i, links in enumerate(paths):\n",
    "\tfor lid in links:\n",
    "\t\tlinkpath[lid, i] = 1.0\t"
   ]
  },
  {
   "cell_type": "code",
   "execution_count": 3,
   "metadata": {
    "pycharm": {
     "name": "#%%\n"
    }
   },
   "outputs": [
    {
     "name": "stderr",
     "output_type": "stream",
     "text": [
      "2022-05-09 20:40:31.385630: W tensorflow/stream_executor/platform/default/dso_loader.cc:64] Could not load dynamic library 'libcuda.so.1'; dlerror: libcuda.so.1: cannot open shared object file: No such file or directory; LD_LIBRARY_PATH: /usr/lib/libreoffice/program:/usr/local/lib:/usr/lib/libreoffice/program:/usr/local/lib:/usr/local/lib::/opt/gurobi950/linux64/lib:/lib/x86_64-linux-gnu:/home/matt/.mujoco/mjpro150/bin:/opt/gurobi950/linux64/lib:/lib/x86_64-linux-gnu:/home/matt/.mujoco/mjpro150/bin:/opt/gurobi950/linux64/lib:/lib/x86_64-linux-gnu:/home/matt/.mujoco/mjpro150/bin\n",
      "2022-05-09 20:40:31.385661: W tensorflow/stream_executor/cuda/cuda_driver.cc:269] failed call to cuInit: UNKNOWN ERROR (303)\n",
      "2022-05-09 20:40:31.385690: I tensorflow/stream_executor/cuda/cuda_diagnostics.cc:156] kernel driver does not appear to be running on this host (mb-gazelle): /proc/driver/nvidia/version does not exist\n",
      "2022-05-09 20:40:31.386452: I tensorflow/core/platform/cpu_feature_guard.cc:151] This TensorFlow binary is optimized with oneAPI Deep Neural Network Library (oneDNN) to use the following CPU instructions in performance-critical operations:  AVX2 FMA\n",
      "To enable them in other operations, rebuild TensorFlow with the appropriate compiler flags.\n"
     ]
    }
   ],
   "source": [
    "m_true = np.array([10., 1., 1., 1., 10.])\n",
    "m_init = np.array([9.0, 2.0, 2.0, 2.0, 9.0])\n",
    "b_true = np.array([0., 50., 10., 50., 0.])\n",
    "b_init = b_true\n",
    "x = tf.constant(np.array([4., 2., 2., 2., 4.]), dtype=tf.float64)\n",
    "X = tf.expand_dims(x, 0)\n",
    "rng = tf.random.Generator.from_seed(1234)\n",
    "n_samples = 100\n",
    "data = x + rng.normal((n_samples, n_links), mean=0, stddev=0.01, dtype=tf.float64)\n",
    "#true_cost = np.array([40, 52, 12, 52, 40], dtype=np.float64)\n",
    "true_cost = m_true * x + b_true\n",
    "q_true = np.array([6.0])\n",
    "q_init = np.array([5.0])\n",
    "\n",
    "optimizer = tf.keras.optimizers.Adam()"
   ]
  },
  {
   "cell_type": "code",
   "execution_count": 30,
   "metadata": {
    "pycharm": {
     "name": "#%%\n"
    }
   },
   "outputs": [],
   "source": [
    "class StochasticNetworkLoading(tf.keras.Model):\n",
    "    def __init__(self, n_nodes, triplist, linklist, m_init, b_init, q_init, *args, **kwargs):\n",
    "        super().__init__(*args, **kwargs)\n",
    "        self._m = tf.Variable(np.log(m_init), name=\"m\", dtype=self.dtype, trainable=self.trainable)\n",
    "        self.b = tf.Variable(b_init, name=\"b\", dtype=self.dtype, trainable=False)\n",
    "        self._q = tf.Variable(np.sqrt(q_init), name=\"q\", dtype=self.dtype, trainable=self.trainable)\n",
    "        self.linklist = linklist\n",
    "        self.n_nodes = n_nodes\n",
    "        self.triplist = triplist\n",
    "        self.I = np.identity(self.n_nodes)\n",
    "\n",
    "    @property\n",
    "    def m(self):\n",
    "        return tf.exp(self._m)\n",
    "\n",
    "    @property\n",
    "    def q(self):\n",
    "        return self._q ** 2\n",
    "\n",
    "    def link_cost(self, x):\n",
    "        return tf.multiply(self.m, x) + self.b\n",
    "\n",
    "    def link_logits(self, x):\n",
    "        return tf.exp(-self.link_cost(x))\n",
    "\n",
    "    def transition_logits(self, x):\n",
    "        n_samples = x.shape[0]\n",
    "        indices = [\n",
    "            list(it.chain([i], adj))\n",
    "            for i, adj in it.product(range(n_samples), self.linklist)\n",
    "        ]\n",
    "        return tf.SparseTensor(\n",
    "            indices=indices,\n",
    "            values=tf.reshape(self.link_logits(x), [-1]),\n",
    "            dense_shape=(n_samples, self.n_nodes, self.n_nodes)\n",
    "        )\n",
    "\n",
    "    @property\n",
    "    def Q(self):\n",
    "        return tf.SparseTensor(\n",
    "            indices=self.triplist, \n",
    "            values=self.q, \n",
    "            dense_shape=(n_nodes, n_nodes)\n",
    "        )\n",
    "\n",
    "    def link_weights(self, L):\n",
    "        _L = tf.sparse.to_dense(L)\n",
    "        Q = tf.sparse.to_dense(self.Q)\n",
    "        V = tf.linalg.inv(self.I - _L)\n",
    "        _V = 1.0 / tf.where(tf.equal(V, 0.0), 1.0, V)\n",
    "        return tf.einsum(\"iru, ivs, irs, rs -> iuv\", V, V, _V, Q)\n",
    "\n",
    "    def normalizer(self, L):\n",
    "        # TODO support multiple OD: tf.einsum(\"iuv, iru, ivs, irs, rs -> iuv\", L, V, V, 1.0/V, Q)\n",
    "        V = tf.linalg.inv(self.I - tf.sparse.to_dense(L))\n",
    "        V_rs = 1.0 / V[:, self.r, self.s]\n",
    "        V_r = V[:, self.r, :]\n",
    "        V_s = V[:, :, self.s]\n",
    "        return tf.einsum(\"iu, iv, i -> iuv\", V_r, V_s, V_rs)\n",
    "\n",
    "    def link_assignment(self, x):\n",
    "        L = self.transition_logits(x)\n",
    "        W = self.link_weights(L)\n",
    "        H = L * W\n",
    "        n_samples = x.shape[0]\n",
    "        return tf.reshape(H.values, [n_samples, -1])\n",
    "\n",
    "    def call(self, x):\n",
    "        x = tf.cast(x, self.dtype)\n",
    "        return self.link_assignment(x)"
   ]
  },
  {
   "cell_type": "code",
   "execution_count": 31,
   "metadata": {
    "pycharm": {
     "name": "#%%\n"
    }
   },
   "outputs": [
    {
     "name": "stdout",
     "output_type": "stream",
     "text": [
      "[<tf.Variable 'm:0' shape=(5,) dtype=float64, numpy=array([2.19722458, 0.69314718, 0.69314718, 0.69314718, 2.19722458])>, <tf.Variable 'q:0' shape=(1,) dtype=float64, numpy=array([2.23606798])>]\n",
      "q = [5.], m  = [9. 2. 2. 2. 9.]\n"
     ]
    }
   ],
   "source": [
    "model = StochasticNetworkLoading(n_nodes, triplist, adjacencies, m_init, b_init, q_init, dtype=tf.float64)\n",
    "print(model.trainable_variables)\n",
    "print(f\"q = {model.q}, m  = {model.m}\")"
   ]
  },
  {
   "cell_type": "code",
   "execution_count": 32,
   "metadata": {},
   "outputs": [],
   "source": [
    "true_model = StochasticNetworkLoading(n_nodes, triplist, adjacencies, m_true, b_true, q_true, dtype=tf.float64, trainable=False)"
   ]
  },
  {
   "cell_type": "code",
   "execution_count": 7,
   "metadata": {},
   "outputs": [
    {
     "name": "stdout",
     "output_type": "stream",
     "text": [
      "[[4. 2. 2. 2. 4.]] =?= [[4. 2. 2. 2. 4.]]\n",
      "Q = [[0. 0. 0. 6.]\n",
      " [0. 0. 0. 0.]\n",
      " [0. 0. 0. 0.]\n",
      " [0. 0. 0. 0.]]\n",
      "link cost = [[40. 52. 12. 52. 40.]]\n",
      "link logits = [[4.24835426e-18 2.61027907e-23 6.14421235e-06 2.61027907e-23\n",
      "  4.24835426e-18]]\n",
      "L = [[[0.00000000e+00 4.24835426e-18 2.61027907e-23 0.00000000e+00]\n",
      "  [0.00000000e+00 0.00000000e+00 6.14421235e-06 2.61027907e-23]\n",
      "  [0.00000000e+00 0.00000000e+00 0.00000000e+00 4.24835426e-18]\n",
      "  [0.00000000e+00 0.00000000e+00 0.00000000e+00 0.00000000e+00]]]\n",
      "W = [[[6.00000000e+00 9.41541067e+17 7.66201600e+22 1.80352568e+40]\n",
      "  [2.54901255e-17 4.00000000e+00 3.25509583e+05 7.66201600e+22]\n",
      "  [3.13233488e-22 4.91536988e-05 4.00000000e+00 9.41541067e+17]\n",
      "  [1.99609023e-39 3.13233488e-22 2.54901255e-17 6.00000000e+00]]]\n"
     ]
    }
   ],
   "source": [
    "print(f\"{X} =?= {true_model(X)}\")\n",
    "print(f\"Q = {tf.sparse.to_dense(true_model.Q)}\")\n",
    "print(f\"link cost = {true_model.link_cost(X)}\")\n",
    "print(f\"link logits = {true_model.link_logits(X)}\")\n",
    "print(f\"L = {tf.sparse.to_dense(true_model.transition_logits(X))}\")\n",
    "print(f\"W = {true_model.link_weights(true_model.transition_logits(X))}\")"
   ]
  },
  {
   "cell_type": "code",
   "execution_count": 8,
   "metadata": {
    "pycharm": {
     "name": "#%%\n"
    }
   },
   "outputs": [
    {
     "name": "stdout",
     "output_type": "stream",
     "text": [
      "0: loss=3.39, demand=[4.99552887], cost coefficients=[9.0090045  1.99800101 2.002001   1.99800101 9.0090045 ], link flow=[4.91168559 0.08831441 4.82324302 0.08844257 4.91155743], link cost=[36.03407105 53.99690421 14.0036827  53.99685672 36.03412713]\n",
      "1000: loss=0.0159, demand=[5.9720789], cost coefficients=[9.82010924 1.83065247 2.18663451 1.8298825  9.8192754 ], link flow=[3.98744023 1.98454084 2.00506498 1.98237525 3.98960582], link cost=[39.27831472 53.66213157 14.37292029 53.66054779 39.27504065]\n",
      "2000: loss=0.01583, demand=[5.9839373], cost coefficients=[9.80969055 1.81828137 2.19662051 1.81521067 9.80770763], link flow=[3.99338036 1.99055689 2.0049874  1.98839296 3.99554428], link cost=[39.23664221 53.63738378 14.39289068 53.63119784 39.22877203]\n",
      "3000: loss=0.01576, demand=[5.98401327], cost coefficients=[9.79002248 1.79677956 2.21446965 1.78973814 9.78605491], link flow=[3.99340843 1.99060474 2.0049623  1.98844613 3.99556704], link cost=[39.1579742  53.59437044 14.42858613 53.58024189 39.14216568]\n",
      "4000: loss=0.01564, demand=[5.98413859], cost coefficients=[9.75712291 1.7617454  2.24525951 1.74840641 9.7500077 ], link flow=[3.99345443 1.99068401 2.00492045 1.98853398 3.99560446], link cost=[39.02638303 53.52428631 14.49016093 53.49756074 38.99798439]\n",
      "5000: loss=0.01545, demand=[5.9843389], cost coefficients=[9.70341237 1.7070541  2.29803015 1.68430838 9.6915956 ], link flow=[3.99352712 1.99081153 2.00485241 1.98867471 3.99566394], link cost=[38.81155246 53.41487903 14.5956938  53.36933728 38.76434826]\n",
      "6000: loss=0.01516, demand=[5.98465125], cost coefficients=[9.6168688  1.625379   2.38950884 1.58953857 9.59850745], link flow=[3.99363834 1.99101252 2.00474323 1.98889511 3.99575575], link cost=[38.4653969  53.25149194 14.77863659 53.17975712 38.3920152 ]\n",
      "7000: loss=0.01472, demand=[5.98512807], cost coefficients=[9.47817264 1.51034554 2.55197723 1.45795647 9.45154108], link flow=[3.99380279 1.9913247  2.0045684  1.98923439 3.9958931 ], link cost=[37.91064221 53.02137307 15.10354746 52.91653663 37.80418058]\n",
      "8000: loss=0.01415, demand=[5.98579465], cost coefficients=[9.27992383 1.39118319 2.82950348 1.32137818 9.24458941], link flow=[3.99400038 1.99179356 2.00426477 1.98973561 3.99605833], link cost=[37.11768982 52.78299457 15.65855569 52.64332161 36.97641731]\n",
      "9000: loss=0.01346, demand=[5.98664534], cost coefficients=[9.00339655 1.28608431 3.27774355 1.19898337 8.95941483], link flow=[3.99422945 1.99241506 2.00384222 1.99038723 3.99625728], link cost=[36.01164046 52.57274935 16.55496434 52.39847965 35.83577885]\n",
      "10000: loss=0.01275, demand=[5.98746269], cost coefficients=[8.64161318 1.19837644 3.91331794 1.09385865 8.5895775 ], link flow=[3.98535242 2.00208946 2.00329946 1.98205296 4.00538892], link cost=[34.56458519 52.39729401 17.82601175 52.18818524 34.35650717]\n",
      "10001 [FINAL]: loss=0.01275, demand=[5.98746269],cost coefficients=[8.64161318 1.19837644 3.91331794 1.09385865 8.5895775 ], link flow=[3.98535242 2.00208946 2.00329946 1.98205296 4.00538892], link cost=[34.56458519 52.39729401 17.82601175 52.18818524 34.35650717]\n"
     ]
    }
   ],
   "source": [
    "loss = tf.reduce_mean((data - model(data))**2)\n",
    "i = 0\n",
    "while loss > 1e-8 and i <= 10000:\n",
    "\twith tf.GradientTape() as tape:\n",
    "\t\tx_hat = model(data)\n",
    "\t\tloss = (\n",
    "\t\t\ttf.reduce_mean((data - x_hat)**2)\n",
    "\t\t)\n",
    "\tgrads = tape.gradient(loss, model.trainable_variables)\n",
    "\toptimizer.apply_gradients(zip(grads, model.trainable_variables))\n",
    "\tif i % 1000 == 0:\n",
    "\t\tprint(f\"{i}: loss={loss.numpy():0.4g}, demand={model.q}, cost coefficients={model.m}, link flow={x_hat.numpy().mean(0)}, link cost={model.link_cost(data).numpy().mean(0)}\")\n",
    "\ti += 1\n",
    "print(f\"{i} [FINAL]: loss={loss.numpy():0.4g}, demand={model.q},cost coefficients={model.m}, link flow={x_hat.numpy().mean(0)}, link cost={model.link_cost(data).numpy().mean(0)}\")"
   ]
  },
  {
   "cell_type": "code",
   "execution_count": 9,
   "metadata": {
    "pycharm": {
     "name": "#%%\n"
    }
   },
   "outputs": [
    {
     "name": "stdout",
     "output_type": "stream",
     "text": [
      "learned flow = [[3.99467367 1.99278903 2.00010457 1.9945691  3.9928936 ]]; true flow = [[4. 2. 2. 2. 4.]]\n",
      "Learned cost = [34.56645273 52.39675289 17.82663587 52.18771731 34.35831   ]; true cost = [40. 52. 12. 52. 40.]\n",
      "learned path cost = [86.75417004 86.75139861 86.75506289]; true path cost = [92. 92. 92.]\n",
      "m = [8.64161318 1.19837644 3.91331794 1.09385865 8.5895775 ], (true m = [10.  1.  1.  1. 10.])\n",
      "b = <tf.Variable 'b:0' shape=(5,) dtype=float64, numpy=array([ 0., 50., 10., 50.,  0.])>\n",
      "OD demand = [5.98746269]\n"
     ]
    }
   ],
   "source": [
    "print(f\"learned flow = {model(tf.expand_dims(x, 0)).numpy()}; true flow = {true_model(tf.expand_dims(x, 0)).numpy()}\")\n",
    "print(f\"Learned cost = {model.link_cost(x).numpy()}; true cost = {true_model.link_cost(x).numpy()}\")\n",
    "print(f\"learned path cost = {linkpath.T @  model.link_cost(x).numpy()}; true path cost = {linkpath.T @ true_model.link_cost(x).numpy()}\")\n",
    "print(f\"m = {model.m}, (true m = {m_true})\")\n",
    "print(f\"b = {model.b}\")\n",
    "print(f\"OD demand = {model.q}\")"
   ]
  },
  {
   "cell_type": "code",
   "execution_count": 43,
   "metadata": {},
   "outputs": [
    {
     "data": {
      "text/plain": [
       "<tf.Variable 'Adam/learning_rate:0' shape=() dtype=float32, numpy=0.001>"
      ]
     },
     "execution_count": 43,
     "metadata": {},
     "output_type": "execute_result"
    }
   ],
   "source": [
    "optimizer.learning_rate"
   ]
  },
  {
   "cell_type": "code",
   "execution_count": 46,
   "metadata": {},
   "outputs": [],
   "source": [
    "import time"
   ]
  },
  {
   "cell_type": "code",
   "execution_count": 81,
   "metadata": {},
   "outputs": [
    {
     "data": {
      "text/plain": [
       "<tf.Tensor: shape=(1, 5), dtype=float64, numpy=\n",
       "array([[3.00000000e+000, 3.00000000e+000, 3.63543145e-113,\n",
       "        3.00000000e+000, 3.00000000e+000]])>"
      ]
     },
     "execution_count": 81,
     "metadata": {},
     "output_type": "execute_result"
    }
   ],
   "source": [
    "true_model(x_ue)"
   ]
  },
  {
   "cell_type": "code",
   "execution_count": 89,
   "metadata": {},
   "outputs": [
    {
     "name": "stdout",
     "output_type": "stream",
     "text": [
      "[[6.00000000e+00 2.54901255e-17 6.00000000e+00 2.54901255e-17\n",
      "  6.00000000e+00]]\n",
      "0: loss=14.4; x=[[5.90000026 0.09999974 5.90000013 0.09999974 5.90000026]]\n",
      "100: loss=0.008309; x=[[3.95642905 1.89309236 2.24389776 1.89309236 3.95642905]]\n",
      "\n",
      "187 iterations in 1.50 seconds\n",
      "187: loss=9.93e-05; x=[[3.99516699 1.99069109 2.02750846 1.99069109 3.99516699]]\n"
     ]
    }
   ],
   "source": [
    "optimizer = tf.keras.optimizers.Adam(learning_rate=0.1)\n",
    "x_init = tf.Variable(np.zeros((1, n_links)), name=\"x_init\", dtype=true_model.dtype)\n",
    "x_ue = tf.Variable(true_model(x_init).numpy(), name=\"x_ue\", dtype=true_model.dtype)\n",
    "print(x_ue.numpy())\n",
    "loss = 1\n",
    "l = []\n",
    "i = 0\n",
    "t0 = time.time()\n",
    "while loss > 1e-4:\n",
    "    with tf.GradientTape() as tape:\n",
    "        x_hat = true_model(x_ue)\n",
    "        loss = (\n",
    "            tf.reduce_mean((x_ue - x_hat)**2)\n",
    "        )\n",
    "    trainable_vars = [x_ue]\n",
    "    grads = tape.gradient(loss, trainable_vars)\n",
    "    #print(f\"{i}: {x_ue} -> {x_hat} {grads}\")\n",
    "    optimizer.apply_gradients(zip(grads, trainable_vars))\n",
    "    l.append(loss.numpy())\n",
    "    if i % 100 == 0:\n",
    "        print(f\"{i}: loss={loss.numpy():0.4g}; x={x_ue.numpy()}\")\n",
    "    i += 1\n",
    "duration = time.time()-t0\n",
    "\n",
    "print()\n",
    "print(f\"{i} iterations in {duration:0.2f} seconds\")\n",
    "print(f\"{i}: loss={loss.numpy():0.4g}; x={x_ue.numpy()}\")\n"
   ]
  },
  {
   "cell_type": "code",
   "execution_count": 155,
   "metadata": {},
   "outputs": [
    {
     "name": "stdout",
     "output_type": "stream",
     "text": [
      "[[6.00000000e+00 2.54901255e-17 6.00000000e+00 2.54901255e-17\n",
      "  6.00000000e+00]]\n",
      "best reconstruction error: 9.20099846291531e-05\n",
      "0: ue loss=14.6; reconstruction loss=1.956e+04 x=[[5.99000002 0.00999997 5.99000001 0.00999997 5.99000002]]; q=[5.00044722]\n",
      "1000: ue loss=0.01131; reconstruction loss=2955 x=[[3.702074   1.28059414 2.68796522 1.28143546 3.70141649]]; q=[5.1257992]\n",
      "2000: ue loss=0.0006922; reconstruction loss=386.8 x=[[3.7756965  1.76099274 2.06644696 1.76133724 3.77555292]]; q=[5.58253168]\n",
      "3000: ue loss=6.748e-06; reconstruction loss=32.36 x=[[3.92308117 1.98380447 1.93940851 1.9837761  3.92315201]]; q=[5.91267952]\n",
      "4000: ue loss=1.867e-07; reconstruction loss=0.3028 x=[[3.99723382 2.00532465 1.9906932  2.00530207 3.99725701]]; q=[6.00217288]\n",
      "\n",
      "4478 iterations in 65.72 seconds\n",
      "4478: ue loss=9.938e-09; reconstruction loss=0.0084 x=[[4.00063209 2.00151173 1.99891724 2.00149564 4.00064763]]; q=[6.00198502]\n"
     ]
    }
   ],
   "source": [
    "opt1 = tf.keras.optimizers.Adam(learning_rate=1e-4)\n",
    "opt2 = tf.keras.optimizers.Adam(learning_rate=1e-2)\n",
    "x_init = tf.Variable(np.zeros((1, n_links)), name=\"x_init\", dtype=true_model.dtype)\n",
    "x_ue = tf.Variable(true_model(x_init).numpy(), name=\"x_ue\", dtype=true_model.dtype)\n",
    "model = StochasticNetworkLoading(n_nodes, triplist, adjacencies, m_init, b_init, q_init, dtype=tf.float64)\n",
    "print(x_ue.numpy())\n",
    "loss = 1\n",
    "ue_loss = 1\n",
    "reconstruction_loss = 1\n",
    "ue_losses = []\n",
    "recon_errors = []\n",
    "i = 0\n",
    "t0 = time.time()\n",
    "x_minimizer = tf.reduce_mean(data, 0)\n",
    "print(f\"best reconstruction error: {tf.reduce_mean((data - x_minimizer)**2)}\")\n",
    "best_error = tf.reduce_mean((data - x_minimizer)**2)\n",
    "while ue_loss > 1e-8 or reconstruction_loss > 1e-2:\n",
    "    with tf.GradientTape() as t1, tf.GradientTape() as t2:\n",
    "        x_hat = model(x_ue)\n",
    "        ue_loss = tf.reduce_mean((x_ue - x_hat)**2)\n",
    "        reconstruction_loss = tf.reduce_mean((x_hat - data)**2) / best_error - 1\n",
    "        ue_losses.append(ue_loss.numpy())\n",
    "        recon_errors.append(reconstruction_loss.numpy())\n",
    "        loss = ue_loss + reconstruction_loss\n",
    "    grads = t1.gradient(reconstruction_loss, model.trainable_variables)\n",
    "    #print(f\"{i}: {x_ue} -> {x_hat} {grads}\")\n",
    "    opt1.apply_gradients(zip(grads, model.trainable_variables))\n",
    "    grads = t2.gradient(ue_loss, [x_ue])\n",
    "    opt2.apply_gradients(zip(grads, [x_ue]))\n",
    "    if i % 1000 == 0:\n",
    "        print(f\"{i}: ue loss={ue_loss.numpy():0.4g}; reconstruction loss={reconstruction_loss.numpy():0.4g} x={x_ue.numpy()}; q={model.q}\")\n",
    "    i += 1\n",
    "duration = time.time()-t0\n",
    "\n",
    "print()\n",
    "print(f\"{i} iterations in {duration:0.2f} seconds\")\n",
    "print(f\"{i}: ue loss={ue_loss.numpy():0.4g}; reconstruction loss={reconstruction_loss.numpy():0.4g} x={x_ue.numpy()}; q={model.q}\")\n"
   ]
  },
  {
   "cell_type": "code",
   "execution_count": 156,
   "metadata": {},
   "outputs": [
    {
     "data": {
      "text/plain": [
       "<matplotlib.legend.Legend at 0x7fd6a28f55e0>"
      ]
     },
     "execution_count": 156,
     "metadata": {},
     "output_type": "execute_result"
    },
    {
     "data": {
      "image/png": "[encoded data removed]",
      "text/plain": [
       "<Figure size 432x288 with 1 Axes>"
      ]
     },
     "metadata": {
      "needs_background": "light"
     },
     "output_type": "display_data"
    }
   ],
   "source": [
    "fig, ax = plt.subplots()\n",
    "#ax2 = ax.twinx()\n",
    "ax.plot(ue_losses / ue_losses[0], label=\"UE loss\")\n",
    "ax.plot(recon_errors / recon_errors[0], label=\"reconstruction error\")\n",
    "ax2.set_yscale(\"log\")\n",
    "#plt.plot(recon_errors / recon_errors[0], label=\"reconstruction loss\")\n",
    "ax.set_yscale(\"log\")\n",
    "ax.legend()"
   ]
  },
  {
   "cell_type": "code",
   "execution_count": 92,
   "metadata": {},
   "outputs": [
    {
     "name": "stdout",
     "output_type": "stream",
     "text": [
      "learned flow = [[3.32681149e+00 5.83299757e-08 3.32680893e+00 2.56399752e-06\n",
      "  3.32680898e+00]]; true flow = [[4. 2. 2. 2. 4.]]\n",
      "Learned cost = [27.53685935 55.50359785 10.10757522 55.82265824 31.63912647]; true cost = [40. 52. 12. 52. 40.]\n",
      "learned path cost = [83.35951759 69.28356105 87.14272432]; true path cost = [92. 92. 92.]\n",
      "m = [6.88421484 2.75179893 0.05378761 2.91132912 7.90978162], (true m = [10.  1.  1.  1. 10.])\n",
      "b = <tf.Variable 'b:0' shape=(5,) dtype=float64, numpy=array([ 0., 50., 10., 50.,  0.])>\n",
      "OD demand = [3.32681155]\n"
     ]
    }
   ],
   "source": [
    "print(f\"learned flow = {model(tf.expand_dims(x, 0)).numpy()}; true flow = {true_model(tf.expand_dims(x, 0)).numpy()}\")\n",
    "print(f\"Learned cost = {model.link_cost(x).numpy()}; true cost = {true_model.link_cost(x).numpy()}\")\n",
    "print(f\"learned path cost = {linkpath.T @  model.link_cost(x).numpy()}; true path cost = {linkpath.T @ true_model.link_cost(x).numpy()}\")\n",
    "print(f\"m = {model.m}, (true m = {m_true})\")\n",
    "print(f\"b = {model.b}\")\n",
    "print(f\"OD demand = {model.q}\")"
   ]
  },
  {
   "cell_type": "code",
   "execution_count": 63,
   "metadata": {},
   "outputs": [],
   "source": [
    "import matplotlib.pyplot as plt"
   ]
  },
  {
   "cell_type": "code",
   "execution_count": 91,
   "metadata": {},
   "outputs": [
    {
     "data": {
      "text/plain": [
       "[<matplotlib.lines.Line2D at 0x7fd6a8968c40>]"
      ]
     },
     "execution_count": 91,
     "metadata": {},
     "output_type": "execute_result"
    },
    {
     "data": {
      "image/png": "[encoded data removed]",
      "text/plain": [
       "<Figure size 432x288 with 1 Axes>"
      ]
     },
     "metadata": {
      "needs_background": "light"
     },
     "output_type": "display_data"
    }
   ],
   "source": [
    "plt.plot(l)"
   ]
  },
  {
   "cell_type": "code",
   "execution_count": null,
   "metadata": {},
   "outputs": [],
   "source": []
  }
 ],
 "metadata": {
  "kernelspec": {
   "display_name": "Python 3 (ipykernel)",
   "language": "python",
   "name": "python3"
  },
  "language_info": {
   "codemirror_mode": {
    "name": "ipython",
    "version": 3
   },
   "file_extension": ".py",
   "mimetype": "text/x-python",
   "name": "python",
   "nbconvert_exporter": "python",
   "pygments_lexer": "ipython3",
   "version": "3.8.10"
  }
 },
 "nbformat": 4,
 "nbformat_minor": 1
}
